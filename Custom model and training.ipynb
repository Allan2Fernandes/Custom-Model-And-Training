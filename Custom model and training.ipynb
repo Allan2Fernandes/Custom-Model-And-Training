{
 "cells": [
  {
   "cell_type": "code",
   "execution_count": 1,
   "id": "6255a297",
   "metadata": {},
   "outputs": [
    {
     "name": "stderr",
     "output_type": "stream",
     "text": [
      "C:\\Users\\allan\\miniconda3\\envs\\tf2.9\\lib\\site-packages\\scipy\\__init__.py:146: UserWarning: A NumPy version >=1.16.5 and <1.23.0 is required for this version of SciPy (detected version 1.23.1\n",
      "  warnings.warn(f\"A NumPy version >={np_minversion} and <{np_maxversion}\"\n"
     ]
    }
   ],
   "source": [
    "import tensorflow as tf\n",
    "import keras\n",
    "from keras.layers import Flatten, Dense, Input, Conv2D, MaxPool2D\n",
    "import matplotlib.pyplot as plt\n",
    "from tqdm.notebook import tqdm\n",
    "import numpy as np\n",
    "%matplotlib inline"
   ]
  },
  {
   "cell_type": "code",
   "execution_count": 2,
   "id": "dc6a543b",
   "metadata": {},
   "outputs": [],
   "source": [
    "mnist_dataset = tf.keras.datasets.mnist"
   ]
  },
  {
   "cell_type": "code",
   "execution_count": 3,
   "id": "6fc44e2e",
   "metadata": {},
   "outputs": [
    {
     "name": "stdout",
     "output_type": "stream",
     "text": [
      "<module 'keras.api._v2.keras.datasets.mnist' from 'C:\\\\Users\\\\allan\\\\miniconda3\\\\envs\\\\tf2.9\\\\lib\\\\site-packages\\\\keras\\\\api\\\\_v2\\\\keras\\\\datasets\\\\mnist\\\\__init__.py'>\n"
     ]
    }
   ],
   "source": [
    "print(mnist_dataset)"
   ]
  },
  {
   "cell_type": "code",
   "execution_count": 4,
   "id": "567af0dc",
   "metadata": {},
   "outputs": [],
   "source": [
    "(x_train, y_train), (x_test, y_test) = mnist_dataset.load_data()\n",
    "x_train = tf.expand_dims(x_train, axis = -1)\n",
    "x_train = tf.cast(x_train, dtype = 'float32')\n",
    "\n",
    "x_test = tf.expand_dims(x_test, axis = -1)\n",
    "x_test = tf.cast(x_test, dtype = 'float32')\n"
   ]
  },
  {
   "cell_type": "code",
   "execution_count": 5,
   "id": "561ac4cb",
   "metadata": {},
   "outputs": [],
   "source": [
    "def plot_data(image_array):\n",
    "    plt.imshow(image_array)\n",
    "    plt.show()"
   ]
  },
  {
   "cell_type": "code",
   "execution_count": 6,
   "id": "ca4b2a42",
   "metadata": {},
   "outputs": [
    {
     "data": {
      "image/png": "[encoded data removed]",
      "text/plain": [
       "<Figure size 432x288 with 1 Axes>"
      ]
     },
     "metadata": {
      "needs_background": "light"
     },
     "output_type": "display_data"
    }
   ],
   "source": [
    "plot_data(x_train[0])"
   ]
  },
  {
   "cell_type": "code",
   "execution_count": 7,
   "id": "42c376c4",
   "metadata": {},
   "outputs": [
    {
     "name": "stdout",
     "output_type": "stream",
     "text": [
      "60000\n"
     ]
    }
   ],
   "source": [
    "print(len(y_train))"
   ]
  },
  {
   "cell_type": "code",
   "execution_count": 8,
   "id": "7af141b2",
   "metadata": {},
   "outputs": [],
   "source": [
    "class my_classifier(tf.keras.Model):\n",
    "    def __init__(self):\n",
    "        super(my_classifier, self).__init__()\n",
    "        self.conv2d1 = Conv2D(filters = 8, kernel_size = (3,3), strides = (1,1), activation = 'relu', padding = 'valid')\n",
    "        self.maxpool1 = MaxPool2D(pool_size = (2,2), strides = (2,2))\n",
    "        self.dense1 = Dense(units = 100, activation = 'relu')\n",
    "        self.dense2 = Dense(units = 100, activation = 'relu')\n",
    "        self.classification_layer = Dense(units = 10, activation = 'softmax')\n",
    "        pass\n",
    "    \n",
    "    def call(self, inputs):\n",
    "        x = self.conv2d1(inputs)\n",
    "        x = self.maxpool1(x)\n",
    "        x = Flatten()(x)\n",
    "        x = self.dense1(x)\n",
    "        x = self.dense2(x)\n",
    "        x = self.classification_layer(x)\n",
    "        return x\n",
    "    pass\n",
    "\n",
    "class standard_model:\n",
    "    def __init__(self):\n",
    "        inputs = Input(shape = (28, 28))\n",
    "        x = Flatten()(inputs)\n",
    "        x = Dense(units = 128, activation = 'relu')(x)\n",
    "        #x = Dense(units = 100, activation = 'relu')(x)\n",
    "        x = Dense(units = 10, activation = 'softmax')(x)\n",
    "        self.model = tf.keras.Model(inputs = inputs, outputs = x)\n",
    "        pass\n",
    "    \n",
    "    def get_model(self):\n",
    "        return self.model\n",
    "    pass\n"
   ]
  },
  {
   "cell_type": "code",
   "execution_count": 9,
   "id": "097394a8",
   "metadata": {},
   "outputs": [],
   "source": [
    "model = my_classifier()\n",
    "#model = model_builder(Input(shape = (28, 28)))\n",
    "#model = model_builder.get_model()\n"
   ]
  },
  {
   "cell_type": "code",
   "execution_count": 10,
   "id": "8bae820c",
   "metadata": {},
   "outputs": [],
   "source": [
    "train_dataset = tf.data.Dataset.from_tensor_slices((x_train, y_train))\n",
    "val_dataset = tf.data.Dataset.from_tensor_slices((x_test, y_test))"
   ]
  },
  {
   "cell_type": "code",
   "execution_count": 11,
   "id": "98343961",
   "metadata": {},
   "outputs": [],
   "source": [
    "train_dataset = train_dataset.shuffle(buffer_size = 1024)\n",
    "train_dataset = train_dataset.batch(batch_size = 32)\n"
   ]
  },
  {
   "cell_type": "code",
   "execution_count": 12,
   "id": "7ae3e581",
   "metadata": {},
   "outputs": [],
   "source": [
    "loss_calculator = tf.keras.losses.SparseCategoricalCrossentropy()\n",
    "optimizer = tf.keras.optimizers.Adam(learning_rate=0.001)\n",
    "train_metric = tf.keras.metrics.SparseCategoricalAccuracy()\n",
    "validation_metric = tf.keras.metrics.SparseCategoricalAccuracy()\n",
    "model.compile(optimizer=optimizer, loss=loss_calculator)"
   ]
  },
  {
   "cell_type": "code",
   "execution_count": 13,
   "id": "6609a572",
   "metadata": {},
   "outputs": [],
   "source": [
    "def train_batches_for_single_epoch(model, dataset):\n",
    "    losses = []\n",
    "    for step, (x_batch_train, y_batch_train) in enumerate(dataset):\n",
    "        with tf.GradientTape() as tape:\n",
    "            logits = model(x_batch_train)\n",
    "            loss_value = loss_calculator(y_true = y_batch_train, y_pred = logits)\n",
    "            losses.append(loss_value)\n",
    "            gradients = tape.gradient(loss_value, model.trainable_weights)\n",
    "            optimizer.apply_gradients(zip(gradients, model.trainable_weights))\n",
    "            train_metric.update_state(y_batch_train, logits)\n",
    "        pass\n",
    "    return losses"
   ]
  },
  {
   "cell_type": "code",
   "execution_count": 14,
   "id": "39470db8",
   "metadata": {},
   "outputs": [],
   "source": [
    "def validate_the_model(model, x_val, y_val):\n",
    "    logits = model(x_val)\n",
    "    validation_metric.update_state(y_val, logits)\n",
    "    validation_loss = loss_calculator(y_true = y_val, y_pred = logits)\n",
    "    validation_acc = validation_metric.result()\n",
    "    #print(\"Validation loss is {0} and validation accuracy is {1}\".format(str(np.mean(validation_loss)), validation_acc))\n",
    "    validation_metric.reset_states()    \n",
    "    return np.mean(validation_loss), validation_acc\n",
    "\n"
   ]
  },
  {
   "cell_type": "code",
   "execution_count": 19,
   "id": "f43ddd1b",
   "metadata": {},
   "outputs": [],
   "source": [
    "def train_all_epochs(model, num_of_epochs, dataset):\n",
    "    for epoch in range(num_of_epochs):\n",
    "        current_loss = train_batches_for_single_epoch(model, dataset)\n",
    "        train_acc = train_metric.result()\n",
    "        \n",
    "        train_metric.reset_states()\n",
    "        val_loss, val_acc = validate_the_model(model, x_test, y_test)\n",
    "        train_loss = np.mean(current_loss)\n",
    "        \n",
    "        print(\"Training loss = {0:.4f} ||Training accuracy = {1:.4f} || Validation loss = {2:.4f} || Validation accuracy = {3:.4f}\".format(train_loss, train_acc, val_loss, val_acc))\n",
    "        pass\n",
    "    pass"
   ]
  },
  {
   "cell_type": "code",
   "execution_count": 20,
   "id": "d7f5be80",
   "metadata": {},
   "outputs": [
    {
     "name": "stdout",
     "output_type": "stream",
     "text": [
      "Training loss = 0.0736 ||Training accuracy = 0.9773 || Validation loss = 0.1025 || Validation accuracy = 0.9739\n",
      "Training loss = 0.0568 ||Training accuracy = 0.9825 || Validation loss = 0.1108 || Validation accuracy = 0.9693\n",
      "Training loss = 0.0444 ||Training accuracy = 0.9856 || Validation loss = 0.0853 || Validation accuracy = 0.9780\n",
      "Training loss = 0.0386 ||Training accuracy = 0.9879 || Validation loss = 0.0940 || Validation accuracy = 0.9772\n",
      "Training loss = 0.0324 ||Training accuracy = 0.9904 || Validation loss = 0.0969 || Validation accuracy = 0.9789\n",
      "Model: \"my_classifier\"\n",
      "_________________________________________________________________\n",
      " Layer (type)                Output Shape              Param #   \n",
      "=================================================================\n",
      " conv2d (Conv2D)             multiple                  80        \n",
      "                                                                 \n",
      " max_pooling2d (MaxPooling2D  multiple                 0         \n",
      " )                                                               \n",
      "                                                                 \n",
      " dense (Dense)               multiple                  135300    \n",
      "                                                                 \n",
      " dense_1 (Dense)             multiple                  10100     \n",
      "                                                                 \n",
      " dense_2 (Dense)             multiple                  1010      \n",
      "                                                                 \n",
      "=================================================================\n",
      "Total params: 146,490\n",
      "Trainable params: 146,490\n",
      "Non-trainable params: 0\n",
      "_________________________________________________________________\n"
     ]
    }
   ],
   "source": [
    "train_all_epochs(model, 5, train_dataset)\n",
    "model.summary()"
   ]
  },
  {
   "cell_type": "code",
   "execution_count": null,
   "id": "a5fed79f",
   "metadata": {},
   "outputs": [],
   "source": []
  }
 ],
 "metadata": {
  "kernelspec": {
   "display_name": "Python 3 (ipykernel)",
   "language": "python",
   "name": "python3"
  },
  "language_info": {
   "codemirror_mode": {
    "name": "ipython",
    "version": 3
   },
   "file_extension": ".py",
   "mimetype": "text/x-python",
   "name": "python",
   "nbconvert_exporter": "python",
   "pygments_lexer": "ipython3",
   "version": "3.10.4"
  }
 },
 "nbformat": 4,
 "nbformat_minor": 5
}
